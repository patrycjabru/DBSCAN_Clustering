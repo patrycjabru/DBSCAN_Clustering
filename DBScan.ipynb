{
 "cells": [
  {
   "cell_type": "code",
   "execution_count": 3,
   "metadata": {},
   "outputs": [],
   "source": [
    "import numpy as np\n",
    "from sklearn.preprocessing import normalize"
   ]
  },
  {
   "cell_type": "code",
   "execution_count": 29,
   "metadata": {},
   "outputs": [
    {
     "name": "stdout",
     "output_type": "stream",
     "text": [
      "[[1.000e+00 1.423e+01 1.710e+00 ... 1.040e+00 3.920e+00 1.065e+03]\n",
      " [1.000e+00 1.320e+01 1.780e+00 ... 1.050e+00 3.400e+00 1.050e+03]\n",
      " [1.000e+00 1.316e+01 2.360e+00 ... 1.030e+00 3.170e+00 1.185e+03]\n",
      " ...\n",
      " [3.000e+00 1.327e+01 4.280e+00 ... 5.900e-01 1.560e+00 8.350e+02]\n",
      " [3.000e+00 1.317e+01 2.590e+00 ... 6.000e-01 1.620e+00 8.400e+02]\n",
      " [3.000e+00 1.413e+01 4.100e+00 ... 6.100e-01 1.600e+00 5.600e+02]]\n"
     ]
    }
   ],
   "source": [
    "data_path = './wine.csv'\n",
    "data = np.genfromtxt(data_path, delimiter=',', skip_header =1)\n",
    "\n",
    "print(data)"
   ]
  },
  {
   "cell_type": "code",
   "execution_count": 5,
   "metadata": {},
   "outputs": [
    {
     "data": {
      "text/plain": [
       "array([[1.423e+01, 1.710e+00, 2.430e+00, ..., 1.040e+00, 3.920e+00,\n",
       "        1.065e+03],\n",
       "       [1.320e+01, 1.780e+00, 2.140e+00, ..., 1.050e+00, 3.400e+00,\n",
       "        1.050e+03],\n",
       "       [1.316e+01, 2.360e+00, 2.670e+00, ..., 1.030e+00, 3.170e+00,\n",
       "        1.185e+03],\n",
       "       ...,\n",
       "       [1.327e+01, 4.280e+00, 2.260e+00, ..., 5.900e-01, 1.560e+00,\n",
       "        8.350e+02],\n",
       "       [1.317e+01, 2.590e+00, 2.370e+00, ..., 6.000e-01, 1.620e+00,\n",
       "        8.400e+02],\n",
       "       [1.413e+01, 4.100e+00, 2.740e+00, ..., 6.100e-01, 1.600e+00,\n",
       "        5.600e+02]])"
      ]
     },
     "execution_count": 5,
     "metadata": {},
     "output_type": "execute_result"
    }
   ],
   "source": [
    "np.delete(data,0,1)\n"
   ]
  },
  {
   "cell_type": "code",
   "execution_count": 6,
   "metadata": {},
   "outputs": [
    {
     "name": "stdout",
     "output_type": "stream",
     "text": [
      "[[8.02568218e-04 1.14205457e-02 1.37239165e-03 ... 8.34670947e-04\n",
      "  3.14606742e-03 8.54735152e-01]\n",
      " [8.36750063e-04 1.10451008e-02 1.48941511e-03 ... 8.78587566e-04\n",
      "  2.84495021e-03 8.78587566e-01]\n",
      " [7.44701449e-04 9.80027107e-03 1.75749542e-03 ... 7.67042493e-04\n",
      "  2.36070359e-03 8.82471217e-01]\n",
      " ...\n",
      " [2.95793812e-03 1.30839463e-02 4.21999172e-03 ... 5.81727830e-04\n",
      "  1.53812782e-03 8.23292777e-01]\n",
      " [2.94993953e-03 1.29502345e-02 2.54678112e-03 ... 5.89987905e-04\n",
      "  1.59296734e-03 8.25983067e-01]\n",
      " [4.16319734e-03 1.96086595e-02 5.68970303e-03 ... 8.46516792e-04\n",
      "  2.22037191e-03 7.77130169e-01]]\n"
     ]
    }
   ],
   "source": [
    "sum_of_rows = data.sum(axis=1)\n",
    "normalized_data = data / sum_of_rows[:, np.newaxis]\n",
    "\n",
    "print(normalized_data)"
   ]
  },
  {
   "cell_type": "code",
   "execution_count": 25,
   "metadata": {},
   "outputs": [],
   "source": [
    "# 0 - unchecked\n",
    "# -1 - noise \n",
    "# 1,2... - number of cluster\n",
    "\n",
    "def _DBSCAN(dataset, eps, min_points):\n",
    "    labels = np.zeros(len(dataset), dtype=int)\n",
    "    current_cluster = 0\n",
    "    \n",
    "    for p in range(0, len(dataset)):\n",
    "        if labels[p] != 0:\n",
    "           continue\n",
    "        \n",
    "        neighbor_points = findNeighbors(dataset, p, eps)\n",
    "        if len(neighbor_points) < min_points:\n",
    "            labels[p] = -1   \n",
    "        else: \n",
    "           current_cluster += 1\n",
    "           expandCluster(dataset, labels, p, neighbor_points, current_cluster, eps, min_points)\n",
    "            \n",
    "    return labels\n",
    "\n",
    "\n",
    "def expandCluster(dataset, labels, p, neighbor_points, current_cluster, eps, min_points):\n",
    "    labels[p] = current_cluster\n",
    "    \n",
    "    i = 0\n",
    "    while i < len(neighbor_points):      \n",
    "        Pn = neighbor_points[i]\n",
    "        if labels[Pn] == -1:\n",
    "           labels[Pn] = current_cluster\n",
    "        \n",
    "        elif labels[Pn] == 0:\n",
    "            labels[Pn] = current_cluster\n",
    "            neighbor_points_next = findNeighbors(dataset, Pn, eps)\n",
    "            \n",
    "            if len(neighbor_points_next) >= min_points:\n",
    "                neighbor_points = neighbor_points + neighbor_points_next\n",
    "        i += 1        \n",
    "\n",
    "def findNeighbors(dataset, p, eps):\n",
    "    neighbors = []\n",
    "    for Pn in range(0, len(dataset)):\n",
    "        if np.linalg.norm(dataset[p] - dataset[Pn]) < eps:\n",
    "           neighbors.append(Pn)\n",
    "            \n",
    "    return neighbors\n"
   ]
  },
  {
   "cell_type": "code",
   "execution_count": 26,
   "metadata": {},
   "outputs": [
    {
     "name": "stdout",
     "output_type": "stream",
     "text": [
      "[-1  1  1  1  2  1  1  1  1  1  1  1 -1  1 -1  1  1  1 -1  2  2  2  1  1\n",
      " -1  2  1  1 -1  1  1  1  1  1  1 -1 -1  1  1  2  2  1  1  2 -1  1  1  1\n",
      "  1  1  1  1  1  1  1  1 -1  1  1  2  2 -1  2 -1 -1  2  2  2  2 -1 -1 -1\n",
      " -1  2 -1 -1 -1 -1 -1 -1 -1  2  2  2  3 -1  3  2  2 -1  2 -1  2 -1 -1 -1\n",
      " -1 -1  2 -1  2  2 -1 -1  2 -1  2  2 -1  2  3 -1  2 -1 -1 -1  2 -1 -1  2\n",
      "  2 -1 -1 -1 -1 -1 -1 -1 -1  2 -1 -1  2  2  2  2  2 -1  2  2  2 -1  3  2\n",
      "  2  2 -1  2  2 -1 -1 -1 -1  2  2  2 -1 -1  2  2  2  2  3  2  2  2  2  2\n",
      "  2  3  3 -1  2  2  2  2  2  3]\n"
     ]
    }
   ],
   "source": [
    "_labels = _DBSCAN(normalized_data, eps=0.014, min_points=18)\n",
    "print(_labels)"
   ]
  },
  {
   "cell_type": "code",
   "execution_count": 27,
   "metadata": {},
   "outputs": [
    {
     "name": "stdout",
     "output_type": "stream",
     "text": [
      "[-1  0  0  0  1  0  0  0  0  0  0  0 -1  0 -1  0  0  0 -1  1  1  1  0  0\n",
      " -1  1  0  0 -1  0  0  0  0  0  0 -1 -1  0  0  1  1  0  0  1 -1  0  0  0\n",
      "  0  0  0  0  0  0  0  0 -1  0  0  1  1 -1  1 -1 -1  1  1  1  1 -1 -1 -1\n",
      " -1  1 -1 -1 -1 -1 -1 -1 -1  1  1  1  2 -1  2  1  1 -1  1 -1  1 -1 -1 -1\n",
      " -1 -1  1 -1  1  1 -1 -1  1 -1  1  1 -1  1  2 -1  1 -1 -1 -1  1 -1 -1  1\n",
      "  1 -1 -1 -1 -1 -1 -1 -1 -1  1 -1 -1  1  1  1  1  1 -1  1  1  1 -1  2  1\n",
      "  1  1 -1  1  1 -1 -1 -1 -1  1  1  1 -1 -1  1  1  1  1  2  1  1  1  1  1\n",
      "  1  2  2 -1  1  1  1  1  1  2]\n"
     ]
    }
   ],
   "source": [
    "from sklearn.cluster import DBSCAN\n",
    "labels = DBSCAN(eps=0.014, min_samples=18).fit(normalized_data).labels_\n",
    "print(labels)"
   ]
  },
  {
   "cell_type": "code",
   "execution_count": null,
   "metadata": {},
   "outputs": [],
   "source": []
  }
 ],
 "metadata": {
  "kernelspec": {
   "display_name": "Python 3",
   "language": "python",
   "name": "python3"
  },
  "language_info": {
   "codemirror_mode": {
    "name": "ipython",
    "version": 3
   },
   "file_extension": ".py",
   "mimetype": "text/x-python",
   "name": "python",
   "nbconvert_exporter": "python",
   "pygments_lexer": "ipython3",
   "version": "3.7.4"
  }
 },
 "nbformat": 4,
 "nbformat_minor": 2
}
